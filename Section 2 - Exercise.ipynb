{
 "cells": [
  {
   "cell_type": "code",
   "execution_count": 1,
   "metadata": {},
   "outputs": [],
   "source": [
    "#Exercise Law of Large Numbers\n",
    "#LLN = The average of a certain value acorss a sample will converge to the expcted value of an observation\n",
    "#Follows the Normal Distribution probability\n",
    "\n",
    "##Assignment Requirements:\n",
    "#Test the LLN for N random normally distributed numbers with mean = 0 and stdev = 1\n",
    "#Create python script that will count how many of these numbers fall between -1 and 1 and divide the total quality of N\n",
    "#E(x) = 68.2% (the observations will fall within one standard deviation of the mean)\n",
    "#Check the Mean(Xn) >> E(x) as you rerun your script while increasing N"
   ]
  },
  {
   "cell_type": "code",
   "execution_count": 2,
   "metadata": {},
   "outputs": [
    {
     "data": {
      "text/plain": [
       "array([ 1.65146723,  1.29189039,  1.66162041, -2.04107213, -0.37719746,\n",
       "       -1.26842094, -1.06752891, -0.73361436,  1.79830138,  1.19467324,\n",
       "       -0.706505  , -1.42423002, -0.54733357, -0.61796887,  1.90143648,\n",
       "       -0.73060325,  1.09335233, -0.28588565, -0.51468571,  0.05320734,\n",
       "       -1.00064666,  0.40271572, -1.89608925,  0.78483589, -0.38432647,\n",
       "       -0.7101475 , -0.04304389, -0.81190591, -0.58979136,  0.11061837,\n",
       "       -0.77546749, -0.92175102, -0.11225031, -0.24181735,  0.27282812,\n",
       "       -1.0557586 ,  2.24824535, -0.74344441, -0.60171087,  0.30203547,\n",
       "        1.42358723,  0.3245584 ,  1.05858908,  0.01948888, -0.89311474,\n",
       "        1.17842806,  0.4934098 , -0.56883626,  1.53751474,  0.08791834,\n",
       "       -1.0674716 ,  1.26706156, -1.16044512,  0.75953367, -0.20510449,\n",
       "        0.36342466,  1.89641158, -0.9287338 ,  1.17456566,  0.83846267,\n",
       "       -0.93484923,  0.31442672,  0.91017918,  2.05407876, -0.01305405,\n",
       "        0.25534801,  0.45880126,  0.42933844, -0.43074839, -0.93782231,\n",
       "       -0.10432337, -0.7957895 , -1.05013421, -0.79889927,  0.88259541,\n",
       "        0.67218219,  0.17575489,  1.1101163 ,  0.34610073, -1.49112782,\n",
       "        2.1168485 , -0.24059222, -0.1854893 ,  0.06653689, -1.17330993,\n",
       "        0.13766259, -0.18634626, -0.47425615, -0.40203032,  1.0173163 ,\n",
       "       -0.7586808 , -0.39894947,  0.08118259,  0.54668699,  0.47516333,\n",
       "        0.3143951 ,  0.66204503, -0.17547642, -1.0386526 , -0.13606242])"
      ]
     },
     "execution_count": 2,
     "metadata": {},
     "output_type": "execute_result"
    }
   ],
   "source": [
    "import numpy as np\n",
    "from numpy.random import randn\n",
    "\n",
    "randn(100) #Create an array of 100 variables"
   ]
  },
  {
   "cell_type": "code",
   "execution_count": 3,
   "metadata": {},
   "outputs": [
    {
     "data": {
      "text/plain": [
       "0.6855"
      ]
     },
     "execution_count": 3,
     "metadata": {},
     "output_type": "execute_result"
    }
   ],
   "source": [
    "N = 10000\n",
    "counter = 0\n",
    "for i in randn(N): #Check condtions through array of variables\n",
    "    if i > -1 and i < 1: #Check if the current interation falls between -1 and 1\n",
    "        counter = counter + 1 #If the criteria is met the counter increases by 1. If it is not me the counter remains the same\n",
    "counter/N # % of observations that meet the criteria\n",
    "\n",
    "#Shows how many of the N random variables fall within one standard deviation of the mean"
   ]
  },
  {
   "cell_type": "code",
   "execution_count": null,
   "metadata": {},
   "outputs": [],
   "source": []
  }
 ],
 "metadata": {
  "kernelspec": {
   "display_name": "Python 3",
   "language": "python",
   "name": "python3"
  },
  "language_info": {
   "codemirror_mode": {
    "name": "ipython",
    "version": 3
   },
   "file_extension": ".py",
   "mimetype": "text/x-python",
   "name": "python",
   "nbconvert_exporter": "python",
   "pygments_lexer": "ipython3",
   "version": "3.8.3"
  }
 },
 "nbformat": 4,
 "nbformat_minor": 4
}
